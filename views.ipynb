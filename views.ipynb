{
  "nbformat": 4,
  "nbformat_minor": 0,
  "metadata": {
    "colab": {
      "provenance": [],
      "include_colab_link": true
    },
    "kernelspec": {
      "name": "python3",
      "display_name": "Python 3"
    },
    "language_info": {
      "name": "python"
    }
  },
  "cells": [
    {
      "cell_type": "markdown",
      "metadata": {
        "id": "view-in-github",
        "colab_type": "text"
      },
      "source": [
        "<a href=\"https://colab.research.google.com/github/SHLEAK/random/blob/main/views.ipynb\" target=\"_parent\"><img src=\"https://colab.research.google.com/assets/colab-badge.svg\" alt=\"Open In Colab\"/></a>"
      ]
    },
    {
      "cell_type": "code",
      "source": [
        "!pip install selenium"
      ],
      "metadata": {
        "id": "8HsODKBbNI6x"
      },
      "execution_count": null,
      "outputs": []
    },
    {
      "cell_type": "code",
      "source": [
        "from selenium import webdriver\n",
        "from selenium.webdriver.chrome.options import Options\n",
        "from selenium.webdriver.common.by import By\n",
        "from selenium.webdriver.support import expected_conditions as EC\n",
        "from selenium.webdriver.support.ui import WebDriverWait\n",
        "import concurrent.futures\n",
        "import random\n",
        "import time"
      ],
      "metadata": {
        "id": "uYqIBCYHMu65"
      },
      "execution_count": 3,
      "outputs": []
    },
    {
      "cell_type": "code",
      "source": [
        "def pyv():\n",
        "\tyoutube_links = [\n",
        "\t\t\"-AgFyXVGC-E\",\n",
        "\t\t\"19u5O6-Wf7I\",\n",
        "\t\t\"7VGdn5IKM5s\",\n",
        "\t\t\"CbqnT2GoKOQ\",\n",
        "\t\t\"faKf8XxPoOk\",\n",
        "\t\t\"GVIQLQbmWkc\",\n",
        "\t\t\"KHyh46yIzx0\",\n",
        "\t\t\"MZJPXkp0qXo\",\n",
        "\t\t\"PbrQMFyNyqg\",\n",
        "\t\t\"V9pLxj9KtSU\",\n",
        "\t\t\"wX9jbSN36Gs\",\n",
        "\t\t\"xD7dvgo2AbY\",\n",
        "\t\t\"Z0ntI04FS8I\"\n",
        "\t]\n",
        "\turl=\"https://www.youtube.com/watch?v={}\".format(random.choice(youtube_links))\n",
        "\tchrome_options = Options()\n",
        "\tchrome_options.add_argument('--headless')\n",
        "\tchrome_options.add_argument('--disable-gpu')\n",
        "\tdriver = webdriver.Chrome(options=chrome_options)\n",
        "\tdriver.get(url)\n",
        "\tWebDriverWait(driver, 10).until(EC.presence_of_element_located((By.ID, 'movie_player')))\n",
        "\tvideo_player = driver.find_element(By.ID, 'movie_player')\n",
        "\tvideo_player.click()\n",
        "\ttime.sleep(30)\n",
        "\tdriver.quit()"
      ],
      "metadata": {
        "id": "nmfyW6GFMy8r"
      },
      "execution_count": 4,
      "outputs": []
    },
    {
      "cell_type": "code",
      "source": [
        "with concurrent.futures.ThreadPoolExecutor(max_workers=99999) as executor:\n",
        "    while True:\n",
        "        try:\n",
        "            executor.submit(pyv)\n",
        "        except Exception as e:\n",
        "            print(f\"ERROR:{e}\")"
      ],
      "metadata": {
        "id": "hUbpvmZIM0nL"
      },
      "execution_count": null,
      "outputs": []
    }
  ]
}